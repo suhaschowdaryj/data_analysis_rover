{
 "cells": [
  {
   "cell_type": "code",
   "execution_count": 4,
   "metadata": {
    "collapsed": false
   },
   "outputs": [],
   "source": [
    "import numpy as np\n",
    "import pandas as pd\n",
    "import matplotlib.pyplot as plt\n",
    "import matplotlib.dates as mdates\n",
    "%matplotlib inline"
   ]
  },
  {
   "cell_type": "code",
   "execution_count": 5,
   "metadata": {
    "collapsed": false
   },
   "outputs": [],
   "source": [
    "#import data - give appropriate path\n",
    "conversations_review = pd.read_csv(\"conversations_review.csv\")\n",
    "conversations_message = pd.read_csv(\"conversations_message.csv\")\n",
    "conversations_conversation_pets = pd.read_csv(\"conversations_conversation_pets.csv\")\n",
    "conversations_conversation = pd.read_csv(\"conversations_conversation.csv\")\n",
    "services_service = pd.read_csv(\"services_service.csv\")\n",
    "pets_pet = pd.read_csv(\"pets_pet.csv\")\n",
    "people_person = pd.read_csv(\"people_person.csv\")\n",
    "people_testsegmentation = pd.read_csv(\"people_testsegmentation.csv\")\n"
   ]
  },
  {
   "cell_type": "code",
   "execution_count": 6,
   "metadata": {
    "collapsed": false
   },
   "outputs": [
    {
     "data": {
      "text/html": [
       "<div>\n",
       "<table border=\"1\" class=\"dataframe\">\n",
       "  <thead>\n",
       "    <tr style=\"text-align: right;\">\n",
       "      <th></th>\n",
       "      <th>id</th>\n",
       "      <th>content</th>\n",
       "      <th>stars</th>\n",
       "      <th>conversation_id</th>\n",
       "      <th>reviewer_id</th>\n",
       "    </tr>\n",
       "  </thead>\n",
       "  <tbody>\n",
       "    <tr>\n",
       "      <th>0</th>\n",
       "      <td>73828</td>\n",
       "      <td>Curae donec quam quisque quam.</td>\n",
       "      <td>4</td>\n",
       "      <td>208294</td>\n",
       "      <td>2617</td>\n",
       "    </tr>\n",
       "    <tr>\n",
       "      <th>1</th>\n",
       "      <td>73829</td>\n",
       "      <td>Risus donec scelerisque ultrices commodo nulla.</td>\n",
       "      <td>5</td>\n",
       "      <td>208296</td>\n",
       "      <td>64414</td>\n",
       "    </tr>\n",
       "    <tr>\n",
       "      <th>2</th>\n",
       "      <td>73830</td>\n",
       "      <td>Morbi etiam neque ornare curae senectus nunc b...</td>\n",
       "      <td>5</td>\n",
       "      <td>208298</td>\n",
       "      <td>3312</td>\n",
       "    </tr>\n",
       "  </tbody>\n",
       "</table>\n",
       "</div>"
      ],
      "text/plain": [
       "      id                                            content  stars  \\\n",
       "0  73828                     Curae donec quam quisque quam.      4   \n",
       "1  73829    Risus donec scelerisque ultrices commodo nulla.      5   \n",
       "2  73830  Morbi etiam neque ornare curae senectus nunc b...      5   \n",
       "\n",
       "   conversation_id  reviewer_id  \n",
       "0           208294         2617  \n",
       "1           208296        64414  \n",
       "2           208298         3312  "
      ]
     },
     "execution_count": 6,
     "metadata": {},
     "output_type": "execute_result"
    }
   ],
   "source": [
    "#overview of data\n",
    "conversations_review.head(3)"
   ]
  },
  {
   "cell_type": "code",
   "execution_count": 7,
   "metadata": {
    "collapsed": false
   },
   "outputs": [
    {
     "data": {
      "text/html": [
       "<div>\n",
       "<table border=\"1\" class=\"dataframe\">\n",
       "  <thead>\n",
       "    <tr style=\"text-align: right;\">\n",
       "      <th></th>\n",
       "      <th>id</th>\n",
       "      <th>sent</th>\n",
       "      <th>content</th>\n",
       "      <th>conversation_id</th>\n",
       "      <th>sender_id</th>\n",
       "    </tr>\n",
       "  </thead>\n",
       "  <tbody>\n",
       "    <tr>\n",
       "      <th>0</th>\n",
       "      <td>3229944</td>\n",
       "      <td>2017-05-25 17:06:35.796792</td>\n",
       "      <td>Morbi fames conubia proin orci egestas.</td>\n",
       "      <td>208294</td>\n",
       "      <td>64416</td>\n",
       "    </tr>\n",
       "    <tr>\n",
       "      <th>1</th>\n",
       "      <td>3229945</td>\n",
       "      <td>2017-05-31 16:18:00.550178</td>\n",
       "      <td>Massa purus nascetur adipiscing porttitor lore...</td>\n",
       "      <td>208294</td>\n",
       "      <td>2617</td>\n",
       "    </tr>\n",
       "    <tr>\n",
       "      <th>2</th>\n",
       "      <td>3229946</td>\n",
       "      <td>2017-06-01 13:02:01.707328</td>\n",
       "      <td>Porta lacus ornare morbi lacinia vel.</td>\n",
       "      <td>208294</td>\n",
       "      <td>2617</td>\n",
       "    </tr>\n",
       "  </tbody>\n",
       "</table>\n",
       "</div>"
      ],
      "text/plain": [
       "        id                        sent  \\\n",
       "0  3229944  2017-05-25 17:06:35.796792   \n",
       "1  3229945  2017-05-31 16:18:00.550178   \n",
       "2  3229946  2017-06-01 13:02:01.707328   \n",
       "\n",
       "                                             content  conversation_id  \\\n",
       "0            Morbi fames conubia proin orci egestas.           208294   \n",
       "1  Massa purus nascetur adipiscing porttitor lore...           208294   \n",
       "2              Porta lacus ornare morbi lacinia vel.           208294   \n",
       "\n",
       "   sender_id  \n",
       "0      64416  \n",
       "1       2617  \n",
       "2       2617  "
      ]
     },
     "execution_count": 7,
     "metadata": {},
     "output_type": "execute_result"
    }
   ],
   "source": [
    "conversations_message.head(3)"
   ]
  },
  {
   "cell_type": "code",
   "execution_count": 8,
   "metadata": {
    "collapsed": false
   },
   "outputs": [
    {
     "data": {
      "text/html": [
       "<div>\n",
       "<table border=\"1\" class=\"dataframe\">\n",
       "  <thead>\n",
       "    <tr style=\"text-align: right;\">\n",
       "      <th></th>\n",
       "      <th>id</th>\n",
       "      <th>conversation_id</th>\n",
       "      <th>pet_id</th>\n",
       "    </tr>\n",
       "  </thead>\n",
       "  <tbody>\n",
       "    <tr>\n",
       "      <th>0</th>\n",
       "      <td>1</td>\n",
       "      <td>208294</td>\n",
       "      <td>296577</td>\n",
       "    </tr>\n",
       "    <tr>\n",
       "      <th>1</th>\n",
       "      <td>2</td>\n",
       "      <td>208294</td>\n",
       "      <td>296578</td>\n",
       "    </tr>\n",
       "    <tr>\n",
       "      <th>2</th>\n",
       "      <td>3</td>\n",
       "      <td>208295</td>\n",
       "      <td>296576</td>\n",
       "    </tr>\n",
       "  </tbody>\n",
       "</table>\n",
       "</div>"
      ],
      "text/plain": [
       "   id  conversation_id  pet_id\n",
       "0   1           208294  296577\n",
       "1   2           208294  296578\n",
       "2   3           208295  296576"
      ]
     },
     "execution_count": 8,
     "metadata": {},
     "output_type": "execute_result"
    }
   ],
   "source": [
    "conversations_conversation_pets.head(3)"
   ]
  },
  {
   "cell_type": "code",
   "execution_count": 9,
   "metadata": {
    "collapsed": false
   },
   "outputs": [
    {
     "data": {
      "text/html": [
       "<div>\n",
       "<table border=\"1\" class=\"dataframe\">\n",
       "  <thead>\n",
       "    <tr style=\"text-align: right;\">\n",
       "      <th></th>\n",
       "      <th>id</th>\n",
       "      <th>start_date</th>\n",
       "      <th>end_date</th>\n",
       "      <th>units</th>\n",
       "      <th>added</th>\n",
       "      <th>booking_total</th>\n",
       "      <th>cancellation_fault</th>\n",
       "      <th>requester_id</th>\n",
       "      <th>service_id</th>\n",
       "      <th>booked_at</th>\n",
       "      <th>cancelled_at</th>\n",
       "    </tr>\n",
       "  </thead>\n",
       "  <tbody>\n",
       "    <tr>\n",
       "      <th>0</th>\n",
       "      <td>208294</td>\n",
       "      <td>2017-06-06</td>\n",
       "      <td>2017-06-09</td>\n",
       "      <td>3</td>\n",
       "      <td>2017-05-25 17:06:35.796792</td>\n",
       "      <td>102</td>\n",
       "      <td>NaN</td>\n",
       "      <td>64416</td>\n",
       "      <td>81642</td>\n",
       "      <td>2017-05-26 21:02:09.499404</td>\n",
       "      <td>NaN</td>\n",
       "    </tr>\n",
       "    <tr>\n",
       "      <th>1</th>\n",
       "      <td>208295</td>\n",
       "      <td>2017-07-16</td>\n",
       "      <td>2017-07-25</td>\n",
       "      <td>9</td>\n",
       "      <td>2017-07-07 06:07:08.053227</td>\n",
       "      <td>324</td>\n",
       "      <td>NaN</td>\n",
       "      <td>64415</td>\n",
       "      <td>79559</td>\n",
       "      <td>NaN</td>\n",
       "      <td>NaN</td>\n",
       "    </tr>\n",
       "    <tr>\n",
       "      <th>2</th>\n",
       "      <td>208296</td>\n",
       "      <td>2017-06-06</td>\n",
       "      <td>2017-06-12</td>\n",
       "      <td>6</td>\n",
       "      <td>2017-05-26 17:47:38.312937</td>\n",
       "      <td>102</td>\n",
       "      <td>NaN</td>\n",
       "      <td>64414</td>\n",
       "      <td>91348</td>\n",
       "      <td>2017-05-29 01:27:14.256611</td>\n",
       "      <td>NaN</td>\n",
       "    </tr>\n",
       "  </tbody>\n",
       "</table>\n",
       "</div>"
      ],
      "text/plain": [
       "       id  start_date    end_date  units                       added  \\\n",
       "0  208294  2017-06-06  2017-06-09      3  2017-05-25 17:06:35.796792   \n",
       "1  208295  2017-07-16  2017-07-25      9  2017-07-07 06:07:08.053227   \n",
       "2  208296  2017-06-06  2017-06-12      6  2017-05-26 17:47:38.312937   \n",
       "\n",
       "   booking_total cancellation_fault  requester_id  service_id  \\\n",
       "0            102                NaN         64416       81642   \n",
       "1            324                NaN         64415       79559   \n",
       "2            102                NaN         64414       91348   \n",
       "\n",
       "                    booked_at cancelled_at  \n",
       "0  2017-05-26 21:02:09.499404          NaN  \n",
       "1                         NaN          NaN  \n",
       "2  2017-05-29 01:27:14.256611          NaN  "
      ]
     },
     "execution_count": 9,
     "metadata": {},
     "output_type": "execute_result"
    }
   ],
   "source": [
    "conversations_conversation.head(3)"
   ]
  },
  {
   "cell_type": "code",
   "execution_count": 10,
   "metadata": {
    "collapsed": false
   },
   "outputs": [
    {
     "data": {
      "text/html": [
       "<div>\n",
       "<table border=\"1\" class=\"dataframe\">\n",
       "  <thead>\n",
       "    <tr style=\"text-align: right;\">\n",
       "      <th></th>\n",
       "      <th>id</th>\n",
       "      <th>service_type</th>\n",
       "      <th>cancellation_policy</th>\n",
       "      <th>can_provide_oral_medication</th>\n",
       "      <th>can_provide_injected_medication</th>\n",
       "      <th>senior_dog_experience</th>\n",
       "      <th>special_needs_experience</th>\n",
       "      <th>takes_small_dogs</th>\n",
       "      <th>takes_medium_dogs</th>\n",
       "      <th>takes_large_dogs</th>\n",
       "      <th>takes_puppies</th>\n",
       "      <th>max_dogs</th>\n",
       "      <th>provider_id</th>\n",
       "      <th>fee</th>\n",
       "      <th>price</th>\n",
       "      <th>added</th>\n",
       "    </tr>\n",
       "  </thead>\n",
       "  <tbody>\n",
       "    <tr>\n",
       "      <th>0</th>\n",
       "      <td>77127</td>\n",
       "      <td>boarding</td>\n",
       "      <td>strict</td>\n",
       "      <td>1</td>\n",
       "      <td>0</td>\n",
       "      <td>1</td>\n",
       "      <td>1</td>\n",
       "      <td>0</td>\n",
       "      <td>1</td>\n",
       "      <td>0</td>\n",
       "      <td>0</td>\n",
       "      <td>2</td>\n",
       "      <td>1</td>\n",
       "      <td>0.15</td>\n",
       "      <td>35</td>\n",
       "      <td>2015-07-12 15:13:16.673652</td>\n",
       "    </tr>\n",
       "    <tr>\n",
       "      <th>1</th>\n",
       "      <td>77128</td>\n",
       "      <td>boarding</td>\n",
       "      <td>strict</td>\n",
       "      <td>1</td>\n",
       "      <td>0</td>\n",
       "      <td>1</td>\n",
       "      <td>0</td>\n",
       "      <td>1</td>\n",
       "      <td>0</td>\n",
       "      <td>0</td>\n",
       "      <td>1</td>\n",
       "      <td>2</td>\n",
       "      <td>2</td>\n",
       "      <td>0.15</td>\n",
       "      <td>35</td>\n",
       "      <td>2015-07-12 13:44:21.949482</td>\n",
       "    </tr>\n",
       "    <tr>\n",
       "      <th>2</th>\n",
       "      <td>77129</td>\n",
       "      <td>dog-walking</td>\n",
       "      <td>flexible</td>\n",
       "      <td>1</td>\n",
       "      <td>0</td>\n",
       "      <td>1</td>\n",
       "      <td>0</td>\n",
       "      <td>1</td>\n",
       "      <td>1</td>\n",
       "      <td>0</td>\n",
       "      <td>1</td>\n",
       "      <td>6</td>\n",
       "      <td>3</td>\n",
       "      <td>0.15</td>\n",
       "      <td>24</td>\n",
       "      <td>2015-07-12 11:36:06.992714</td>\n",
       "    </tr>\n",
       "  </tbody>\n",
       "</table>\n",
       "</div>"
      ],
      "text/plain": [
       "      id service_type cancellation_policy  can_provide_oral_medication  \\\n",
       "0  77127     boarding              strict                            1   \n",
       "1  77128     boarding              strict                            1   \n",
       "2  77129  dog-walking            flexible                            1   \n",
       "\n",
       "   can_provide_injected_medication  senior_dog_experience  \\\n",
       "0                                0                      1   \n",
       "1                                0                      1   \n",
       "2                                0                      1   \n",
       "\n",
       "   special_needs_experience  takes_small_dogs  takes_medium_dogs  \\\n",
       "0                         1                 0                  1   \n",
       "1                         0                 1                  0   \n",
       "2                         0                 1                  1   \n",
       "\n",
       "   takes_large_dogs  takes_puppies  max_dogs  provider_id   fee  price  \\\n",
       "0                 0              0         2            1  0.15     35   \n",
       "1                 0              1         2            2  0.15     35   \n",
       "2                 0              1         6            3  0.15     24   \n",
       "\n",
       "                        added  \n",
       "0  2015-07-12 15:13:16.673652  \n",
       "1  2015-07-12 13:44:21.949482  \n",
       "2  2015-07-12 11:36:06.992714  "
      ]
     },
     "execution_count": 10,
     "metadata": {},
     "output_type": "execute_result"
    }
   ],
   "source": [
    "services_service.head(3)"
   ]
  },
  {
   "cell_type": "code",
   "execution_count": 11,
   "metadata": {
    "collapsed": false
   },
   "outputs": [
    {
     "data": {
      "text/html": [
       "<div>\n",
       "<table border=\"1\" class=\"dataframe\">\n",
       "  <thead>\n",
       "    <tr style=\"text-align: right;\">\n",
       "      <th></th>\n",
       "      <th>id</th>\n",
       "      <th>name</th>\n",
       "      <th>description</th>\n",
       "      <th>gender</th>\n",
       "      <th>weight</th>\n",
       "      <th>birthday</th>\n",
       "      <th>plays_cats</th>\n",
       "      <th>plays_children</th>\n",
       "      <th>plays_dogs</th>\n",
       "      <th>spayed_neutered</th>\n",
       "      <th>house_trained</th>\n",
       "      <th>size</th>\n",
       "      <th>owner_id</th>\n",
       "    </tr>\n",
       "  </thead>\n",
       "  <tbody>\n",
       "    <tr>\n",
       "      <th>0</th>\n",
       "      <td>219067</td>\n",
       "      <td>Dorla</td>\n",
       "      <td>Etiam risus.</td>\n",
       "      <td>f</td>\n",
       "      <td>77</td>\n",
       "      <td>2015-04-20</td>\n",
       "      <td>0</td>\n",
       "      <td>1</td>\n",
       "      <td>1</td>\n",
       "      <td>1</td>\n",
       "      <td>1</td>\n",
       "      <td>large</td>\n",
       "      <td>12601</td>\n",
       "    </tr>\n",
       "    <tr>\n",
       "      <th>1</th>\n",
       "      <td>219068</td>\n",
       "      <td>Magan</td>\n",
       "      <td>Massa ipsum felis.</td>\n",
       "      <td>f</td>\n",
       "      <td>85</td>\n",
       "      <td>2016-01-03</td>\n",
       "      <td>0</td>\n",
       "      <td>0</td>\n",
       "      <td>1</td>\n",
       "      <td>0</td>\n",
       "      <td>1</td>\n",
       "      <td>large</td>\n",
       "      <td>12601</td>\n",
       "    </tr>\n",
       "    <tr>\n",
       "      <th>2</th>\n",
       "      <td>219069</td>\n",
       "      <td>Concepcion</td>\n",
       "      <td>Lacus donec potenti cubilia primis nam nibh.</td>\n",
       "      <td>f</td>\n",
       "      <td>9</td>\n",
       "      <td>2013-06-30</td>\n",
       "      <td>0</td>\n",
       "      <td>1</td>\n",
       "      <td>1</td>\n",
       "      <td>1</td>\n",
       "      <td>1</td>\n",
       "      <td>small</td>\n",
       "      <td>12602</td>\n",
       "    </tr>\n",
       "  </tbody>\n",
       "</table>\n",
       "</div>"
      ],
      "text/plain": [
       "       id        name                                   description gender  \\\n",
       "0  219067       Dorla                                  Etiam risus.      f   \n",
       "1  219068       Magan                            Massa ipsum felis.      f   \n",
       "2  219069  Concepcion  Lacus donec potenti cubilia primis nam nibh.      f   \n",
       "\n",
       "   weight    birthday  plays_cats  plays_children  plays_dogs  \\\n",
       "0      77  2015-04-20           0               1           1   \n",
       "1      85  2016-01-03           0               0           1   \n",
       "2       9  2013-06-30           0               1           1   \n",
       "\n",
       "   spayed_neutered  house_trained   size  owner_id  \n",
       "0                1              1  large     12601  \n",
       "1                0              1  large     12601  \n",
       "2                1              1  small     12602  "
      ]
     },
     "execution_count": 11,
     "metadata": {},
     "output_type": "execute_result"
    }
   ],
   "source": [
    "pets_pet.head(3)"
   ]
  },
  {
   "cell_type": "code",
   "execution_count": 12,
   "metadata": {
    "collapsed": false
   },
   "outputs": [
    {
     "data": {
      "text/html": [
       "<div>\n",
       "<table border=\"1\" class=\"dataframe\">\n",
       "  <thead>\n",
       "    <tr style=\"text-align: right;\">\n",
       "      <th></th>\n",
       "      <th>id</th>\n",
       "      <th>first_name</th>\n",
       "      <th>last_name</th>\n",
       "      <th>email</th>\n",
       "      <th>channel</th>\n",
       "      <th>date_joined</th>\n",
       "      <th>photo</th>\n",
       "      <th>fee</th>\n",
       "      <th>gender</th>\n",
       "    </tr>\n",
       "  </thead>\n",
       "  <tbody>\n",
       "    <tr>\n",
       "      <th>0</th>\n",
       "      <td>1</td>\n",
       "      <td>Meaghan</td>\n",
       "      <td>Lapete</td>\n",
       "      <td>meaghan.lapete820@aol.com</td>\n",
       "      <td>NaN</td>\n",
       "      <td>2015-07-12 15:13:16.673652</td>\n",
       "      <td>https://placekitten.com/360/208</td>\n",
       "      <td>0.0</td>\n",
       "      <td>f</td>\n",
       "    </tr>\n",
       "    <tr>\n",
       "      <th>1</th>\n",
       "      <td>2</td>\n",
       "      <td>Aracelis</td>\n",
       "      <td>Luhr</td>\n",
       "      <td>aracelis.luhr844@rover.com</td>\n",
       "      <td>NaN</td>\n",
       "      <td>2015-07-12 13:44:21.949482</td>\n",
       "      <td>https://placekitten.com/392/227</td>\n",
       "      <td>0.0</td>\n",
       "      <td>f</td>\n",
       "    </tr>\n",
       "    <tr>\n",
       "      <th>2</th>\n",
       "      <td>3</td>\n",
       "      <td>Vernita</td>\n",
       "      <td>Amodei</td>\n",
       "      <td>vernita.amodei542@rover.com</td>\n",
       "      <td>NaN</td>\n",
       "      <td>2015-07-12 11:36:06.992714</td>\n",
       "      <td>https://placekitten.com/275/300</td>\n",
       "      <td>0.0</td>\n",
       "      <td>f</td>\n",
       "    </tr>\n",
       "  </tbody>\n",
       "</table>\n",
       "</div>"
      ],
      "text/plain": [
       "   id first_name last_name                        email channel  \\\n",
       "0   1    Meaghan    Lapete    meaghan.lapete820@aol.com     NaN   \n",
       "1   2   Aracelis      Luhr   aracelis.luhr844@rover.com     NaN   \n",
       "2   3    Vernita    Amodei  vernita.amodei542@rover.com     NaN   \n",
       "\n",
       "                  date_joined                            photo  fee gender  \n",
       "0  2015-07-12 15:13:16.673652  https://placekitten.com/360/208  0.0      f  \n",
       "1  2015-07-12 13:44:21.949482  https://placekitten.com/392/227  0.0      f  \n",
       "2  2015-07-12 11:36:06.992714  https://placekitten.com/275/300  0.0      f  "
      ]
     },
     "execution_count": 12,
     "metadata": {},
     "output_type": "execute_result"
    }
   ],
   "source": [
    "people_person.head(3)"
   ]
  },
  {
   "cell_type": "code",
   "execution_count": 13,
   "metadata": {
    "collapsed": false
   },
   "outputs": [
    {
     "data": {
      "text/html": [
       "<div>\n",
       "<table border=\"1\" class=\"dataframe\">\n",
       "  <thead>\n",
       "    <tr style=\"text-align: right;\">\n",
       "      <th></th>\n",
       "      <th>id</th>\n",
       "      <th>test_name</th>\n",
       "      <th>test_group</th>\n",
       "      <th>added</th>\n",
       "      <th>person_id</th>\n",
       "    </tr>\n",
       "  </thead>\n",
       "  <tbody>\n",
       "    <tr>\n",
       "      <th>0</th>\n",
       "      <td>61425</td>\n",
       "      <td>Email Test</td>\n",
       "      <td>holdout</td>\n",
       "      <td>2015-07-12 15:13:16.673652</td>\n",
       "      <td>1</td>\n",
       "    </tr>\n",
       "    <tr>\n",
       "      <th>1</th>\n",
       "      <td>61426</td>\n",
       "      <td>Email Test</td>\n",
       "      <td>holdout</td>\n",
       "      <td>2015-07-12 13:44:21.949482</td>\n",
       "      <td>2</td>\n",
       "    </tr>\n",
       "    <tr>\n",
       "      <th>2</th>\n",
       "      <td>61427</td>\n",
       "      <td>Email Test</td>\n",
       "      <td>variant</td>\n",
       "      <td>2015-07-12 11:36:06.992714</td>\n",
       "      <td>3</td>\n",
       "    </tr>\n",
       "  </tbody>\n",
       "</table>\n",
       "</div>"
      ],
      "text/plain": [
       "      id   test_name test_group                       added  person_id\n",
       "0  61425  Email Test    holdout  2015-07-12 15:13:16.673652          1\n",
       "1  61426  Email Test    holdout  2015-07-12 13:44:21.949482          2\n",
       "2  61427  Email Test    variant  2015-07-12 11:36:06.992714          3"
      ]
     },
     "execution_count": 13,
     "metadata": {},
     "output_type": "execute_result"
    }
   ],
   "source": [
    "people_testsegmentation.head(3)"
   ]
  },
  {
   "cell_type": "code",
   "execution_count": 14,
   "metadata": {
    "collapsed": false
   },
   "outputs": [
    {
     "name": "stdout",
     "output_type": "stream",
     "text": [
      "Number of users signed up: 64416 \n",
      "\n",
      "Number of users signed up prior to 2017-01-12 : 35500 \n",
      "\n",
      "Percentage of users who have added pet : 80.44 \n",
      "\n",
      "Each user on an average have added 1.495909 pets \n",
      "\n",
      "Percentage of pets play well with cat: 24.78 \n",
      "\n"
     ]
    }
   ],
   "source": [
    "#I. Exploring the Database.\n",
    "\n",
    "#a\n",
    "users_signed = people_person.id.count()\n",
    "print('Number of users signed up: %d \\n' %users_signed)\n",
    "\n",
    "#b\n",
    "users_before_2017 = len(people_person[people_person['date_joined']<'2017-01-12'])\n",
    "print('Number of users signed up prior to 2017-01-12 : %d \\n' %users_before_2017)\n",
    "\n",
    "#c\n",
    "users_adding_pets = len(pets_pet.owner_id.unique())\n",
    "user_register_percent = users_adding_pets*100/users_signed\n",
    "print('Percentage of users who have added pet : %.2f \\n' %(user_register_percent))\n",
    "\n",
    "#d\n",
    "user_pet_average = len(pets_pet)/users_adding_pets\n",
    "print('Each user on an average have added %f pets \\n' %(user_pet_average))\n",
    "\n",
    "#e\n",
    "percent_pets_play_cats = len(pets_pet[pets_pet.plays_cats==1])*100 /len(pets_pet.id)\n",
    "print('Percentage of pets play well with cat: %.2f \\n' %(percent_pets_play_cats))\n"
   ]
  },
  {
   "cell_type": "code",
   "execution_count": 15,
   "metadata": {
    "collapsed": false
   },
   "outputs": [
    {
     "name": "stdout",
     "output_type": "stream",
     "text": [
      "Possible services are:\n",
      "boarding\n",
      "dog-walking\n",
      "day-care\n",
      "\n",
      "The possible services and the average price per unit for each service type are: service_type\n",
      "boarding       7.267138\n",
      "day-care       6.233467\n",
      "dog-walking    5.846999\n",
      "Name: price_per_unit, dtype: float64\n",
      "\n",
      "Number of requests per each service:  service_type\n",
      "boarding       26665\n",
      "day-care       26362\n",
      "dog-walking    26716\n",
      "Name: requester_id, dtype: int64\n",
      "\n",
      "booking rate is per each service: service_type\n",
      "boarding       40.735046\n",
      "day-care       35.721872\n",
      "dog-walking    47.952538\n",
      "dtype: float64\n",
      "\n",
      "cancellation rate is per each service: service_type\n",
      "boarding       3.941496\n",
      "day-care       3.486078\n",
      "dog-walking    4.559066\n",
      "dtype: float64\n",
      "\n",
      "For uncancelled bookings,the reviews by owner or provider are: 22493 and 6043\n"
     ]
    }
   ],
   "source": [
    "#II. Conversations and Bookings\n",
    "\n",
    "#a. possible services and the average price per unit for each service type.\n",
    "\n",
    "unique_services = services_service.service_type.unique()\n",
    "print('Possible services are:')\n",
    "for _ in unique_services:\n",
    "    print(_)\n",
    "    \n",
    "df1 = pd.merge(services_service,conversations_conversation,left_on = 'id',right_on = 'service_id', how = 'right')\n",
    "service =df1.groupby('service_type')\n",
    "n1 = service['price','units'].aggregate(np.sum)\n",
    "n1['price_per_unit'] = n1.price / n1.units\n",
    "print('\\nThe possible services and the average price per unit for each service type are:',n1['price_per_unit'])\n",
    "\n",
    "#b\n",
    "print('\\nNumber of requests per each service: ',service['requester_id'].count())\n",
    "booking_rate = 100*service['booked_at'].count()/service['requester_id'].count()\n",
    "print('\\nbooking rate is per each service:',booking_rate)\n",
    "\n",
    "#c\n",
    "cancellation_rate = 100*service['cancelled_at'].count()/service['requester_id'].count()\n",
    "print('\\ncancellation rate is per each service:',cancellation_rate)\n",
    "\n",
    "#d\n",
    "Not_cancelled_df = conversations_conversation[pd.isnull(conversations_conversation.cancelled_at)]\n",
    "reviews_without_cancellation = conversations_review[conversations_review['conversation_id'].isin(Not_cancelled_df.id)]\n",
    "owner_reviews = reviews_without_cancellation[~reviews_without_cancellation['reviewer_id'].isin(services_service.provider_id)]\n",
    "owner_review_count = len(owner_reviews)\n",
    "service_provider_review_count = len(reviews_without_cancellation) - owner_review_count\n",
    "print('\\nFor uncancelled bookings,the reviews by owner or provider are:',owner_review_count,'and',service_provider_review_count)"
   ]
  },
  {
   "cell_type": "code",
   "execution_count": 16,
   "metadata": {
    "collapsed": false,
    "scrolled": true
   },
   "outputs": [
    {
     "data": {
      "text/html": [
       "<div>\n",
       "<table border=\"1\" class=\"dataframe\">\n",
       "  <thead>\n",
       "    <tr style=\"text-align: right;\">\n",
       "      <th></th>\n",
       "      <th>start_date</th>\n",
       "      <th>booking rate</th>\n",
       "    </tr>\n",
       "  </thead>\n",
       "  <tbody>\n",
       "    <tr>\n",
       "      <th>0</th>\n",
       "      <td>2015-07-27</td>\n",
       "      <td>0.397759</td>\n",
       "    </tr>\n",
       "    <tr>\n",
       "      <th>1</th>\n",
       "      <td>2015-10-25</td>\n",
       "      <td>0.389668</td>\n",
       "    </tr>\n",
       "    <tr>\n",
       "      <th>2</th>\n",
       "      <td>2016-01-23</td>\n",
       "      <td>0.401719</td>\n",
       "    </tr>\n",
       "    <tr>\n",
       "      <th>3</th>\n",
       "      <td>2016-04-22</td>\n",
       "      <td>0.412638</td>\n",
       "    </tr>\n",
       "    <tr>\n",
       "      <th>4</th>\n",
       "      <td>2016-07-21</td>\n",
       "      <td>0.416495</td>\n",
       "    </tr>\n",
       "    <tr>\n",
       "      <th>5</th>\n",
       "      <td>2016-10-19</td>\n",
       "      <td>0.405072</td>\n",
       "    </tr>\n",
       "    <tr>\n",
       "      <th>6</th>\n",
       "      <td>2017-01-17</td>\n",
       "      <td>0.410145</td>\n",
       "    </tr>\n",
       "    <tr>\n",
       "      <th>7</th>\n",
       "      <td>2017-04-17</td>\n",
       "      <td>0.441242</td>\n",
       "    </tr>\n",
       "    <tr>\n",
       "      <th>8</th>\n",
       "      <td>2017-07-16</td>\n",
       "      <td>0.257566</td>\n",
       "    </tr>\n",
       "  </tbody>\n",
       "</table>\n",
       "</div>"
      ],
      "text/plain": [
       "  start_date  booking rate\n",
       "0 2015-07-27      0.397759\n",
       "1 2015-10-25      0.389668\n",
       "2 2016-01-23      0.401719\n",
       "3 2016-04-22      0.412638\n",
       "4 2016-07-21      0.416495\n",
       "5 2016-10-19      0.405072\n",
       "6 2017-01-17      0.410145\n",
       "7 2017-04-17      0.441242\n",
       "8 2017-07-16      0.257566"
      ]
     },
     "execution_count": 16,
     "metadata": {},
     "output_type": "execute_result"
    }
   ],
   "source": [
    "# III. Recent Daily Booking Rate\n",
    "\n",
    "conversations_conversation[\"start_date\"] = pd.to_datetime(conversations_conversation['start_date'])\n",
    "date_group         = conversations_conversation.groupby(pd.Grouper(key ='start_date',freq='90D',sort=False))\n",
    "booked_count       = date_group['booked_at'].count()\n",
    "conversation_count = date_group['start_date'].count()\n",
    "booking_percent_90days = booked_count/conversation_count\n",
    "\n",
    "#print('daily booking rate for each of the 90 days prior to the snapshot is: ',booking_percent_90days)\n",
    "df1 = pd.DataFrame(booking_percent_90days)\n",
    "df1.columns= ['booking rate']\n",
    "df1.reset_index()"
   ]
  },
  {
   "cell_type": "code",
   "execution_count": 17,
   "metadata": {
    "collapsed": false
   },
   "outputs": [
    {
     "name": "stdout",
     "output_type": "stream",
     "text": [
      "In each month, the gross billings,net revenue and take rate are:\n",
      "             gross_billings_per_month  net_revenue  take_rate\n",
      "start_date                                                  \n",
      "2015-07-31                    727.65        138.6   0.190476\n",
      "2015-08-31                  25586.40       4873.6   0.190476\n",
      "2015-09-30                  44556.75       8487.0   0.190476\n",
      "2015-10-31                  85320.90      16251.6   0.190476\n",
      "2015-11-30                 125624.10      23928.4   0.190476\n",
      "2015-12-31                 173272.05      33004.2   0.190476\n",
      "2016-01-31                 210090.30      40017.2   0.190476\n",
      "2016-02-29                 239474.55      45614.2   0.190476\n",
      "2016-03-31                 317542.05      60484.2   0.190476\n",
      "2016-04-30                 381205.65      72610.6   0.190476\n",
      "2016-05-31                 438964.05      83612.2   0.190476\n",
      "2016-06-30                 489737.85      93283.4   0.190476\n",
      "2016-07-31                 556032.75     105911.0   0.190476\n",
      "2016-08-31                 635514.60     121050.4   0.190476\n",
      "2016-09-30                 669780.30     127577.2   0.190476\n",
      "2016-10-31                 749917.35     142841.4   0.190476\n",
      "2016-11-30                 818623.05     155928.2   0.190476\n",
      "2016-12-31                 918887.55     175026.2   0.190476\n",
      "2017-01-31                 984176.55     187462.2   0.190476\n",
      "2017-02-28                 962721.90     183375.6   0.190476\n",
      "2017-03-31                1149801.45     219009.8   0.190476\n",
      "2017-04-30                1233648.15     234980.6   0.190476\n",
      "2017-05-31                1359700.65     258990.6   0.190476\n",
      "2017-06-30                1491928.20     284176.8   0.190476\n",
      "2017-07-31                1089094.65     207446.6   0.190476\n"
     ]
    }
   ],
   "source": [
    "#IV. Analyzing Take Rate\n",
    "\n",
    "owner_fee_percent = 0.05\n",
    "service_fee_percent = 0.15\n",
    "\n",
    "conversations_conversation['start_date'] = pd.to_datetime(conversations_conversation['start_date'])\n",
    "monthly_groupby = conversations_conversation.groupby(pd.Grouper(key ='start_date',freq='M'))\n",
    "billings_per_month = monthly_groupby['booking_total'].agg(np.sum)\n",
    "\n",
    "gross_billings_per_month = (1+owner_fee_percent)*billings_per_month\n",
    "net_revenue= (owner_fee_percent+service_fee_percent)*billings_per_month\n",
    "monthly_revenues = pd.concat([gross_billings_per_month, net_revenue], axis=1)\n",
    "monthly_revenues.columns = ['gross_billings_per_month','net_revenue']\n",
    "\n",
    "monthly_revenues['take_rate'] = monthly_revenues['net_revenue']/monthly_revenues['gross_billings_per_month']\n",
    "print('In each month, the gross billings,net revenue and take rate are:\\n',monthly_revenues)"
   ]
  },
  {
   "cell_type": "code",
   "execution_count": 18,
   "metadata": {
    "collapsed": false
   },
   "outputs": [
    {
     "data": {
      "text/plain": [
       "test_group\n",
       "holdout    0.409986\n",
       "variant    0.431410\n",
       "dtype: float64"
      ]
     },
     "execution_count": 18,
     "metadata": {},
     "output_type": "execute_result"
    }
   ],
   "source": [
    "#V. New Conversation Flow\n",
    "\n",
    "ab_test = pd.merge(people_testsegmentation,conversations_conversation,how='inner',\n",
    "                   left_on ='person_id',right_on = 'requester_id')\n",
    "ab = ab_test.groupby('test_group')\n",
    "ab_booking_rate = ab['booked_at','test_name'].count()\n",
    "ab_booking_rate = ab_booking_rate['booked_at'] / ab_booking_rate['test_name']\n",
    "ab_booking_rate"
   ]
  },
  {
   "cell_type": "code",
   "execution_count": 59,
   "metadata": {
    "collapsed": false,
    "scrolled": false
   },
   "outputs": [
    {
     "name": "stdout",
     "output_type": "stream",
     "text": [
      "Number of users acquired via google advertising since 2017-04-12 are: 4673\n",
      "Average cost per account is 45 dollars\n"
     ]
    }
   ],
   "source": [
    "#VI. Search Engine Marketing\n",
    "import warnings\n",
    "warnings.filterwarnings('ignore')\n",
    "\n",
    "search_engine = people_person[people_person['channel'] == 'Google']\n",
    "users_joined_after_ads = len(search_engine[search_engine['date_joined']>'2017-04-12'])\n",
    "print('Number of users acquired via google advertising since 2017-04-12 are:',users_joined_after_ads)\n",
    "print('Average cost per account is %d dollars' %(210285/users_joined_after_ads))\n",
    "\n",
    "search_engine['date_joined'] = pd.to_datetime(search_engine['date_joined'])\n",
    "users_joined_before_ads = search_engine[search_engine['date_joined']<'2017-04-12']\n",
    "users_joined_before_object = users_joined_before_ads.groupby(pd.Grouper(key ='date_joined',freq='D'))\n",
    "users_joined_before = users_joined_before_object['date_joined'].count()\n",
    "users_joined_before = pd.DataFrame({'date':users_joined_before.index, 'count':users_joined_before.values})\n",
    "len_uj_b = len(users_joined_before.index)"
   ]
  },
  {
   "cell_type": "code",
   "execution_count": 60,
   "metadata": {
    "collapsed": false
   },
   "outputs": [
    {
     "data": {
      "text/plain": [
       "<matplotlib.text.Text at 0x1ad85df6198>"
      ]
     },
     "execution_count": 60,
     "metadata": {},
     "output_type": "execute_result"
    },
    {
     "data": {
      "image/png": "[encoded data removed]",
      "text/plain": [
       "<matplotlib.figure.Figure at 0x1ad870f0b38>"
      ]
     },
     "metadata": {},
     "output_type": "display_data"
    }
   ],
   "source": [
    "#plot image\n",
    "users_joined_object = search_engine.groupby(pd.Grouper(key ='date_joined',freq='D'))\n",
    "users_joined = users_joined_object['date_joined'].count()\n",
    "\n",
    "users_joined.plot(linewidth=1)\n",
    "plt.rcParams['figure.dpi']= 120\n",
    "plt.title('Users registered through google ads')\n",
    "plt.xlabel('Data joined')\n",
    "plt.ylabel('Number of users joined')"
   ]
  },
  {
   "cell_type": "code",
   "execution_count": 58,
   "metadata": {
    "collapsed": false
   },
   "outputs": [
    {
     "name": "stdout",
     "output_type": "stream",
     "text": [
      "If the bidding stratergy has not changed, the expected users acquired will be 2873\n"
     ]
    }
   ],
   "source": [
    "from sklearn.linear_model import LinearRegression\n",
    "\n",
    "#data prep\n",
    "search_engine_1 = people_person[people_person['channel'] == 'Google']\n",
    "search_engine_1['date_joined'] = pd.to_datetime(search_engine_1['date_joined'])\n",
    "uj_object = search_engine_1.groupby(pd.Grouper(key ='date_joined',freq='D'))\n",
    "uj = uj_object['date_joined'].count()\n",
    "uj_t = pd.DataFrame({'date':uj.index, 'count':uj.values})\n",
    "uj_t['row_numb'] = uj_t.index\n",
    "uj_t['row_numb'].count()\n",
    "train_data = uj_t[:len_uj_b]\n",
    "test_data = uj_t[len_uj_b:]\n",
    "\n",
    "#train data\n",
    "x_train = train_data['row_numb'].values\n",
    "x_train = x_train[:, np.newaxis]\n",
    "y_train = train_data['count'].values\n",
    "y_train = y_train[:,np.newaxis]\n",
    "\n",
    "regressor = LinearRegression()\n",
    "regressor.fit(x_train,y_train)\n",
    "\n",
    "#test data\n",
    "x_test = test_data['row_numb'].values\n",
    "x_test = x_test[:, np.newaxis]\n",
    "y_test = test_data['count'].values\n",
    "y_test = y_test[:,np.newaxis]\n",
    "\n",
    "#predictions\n",
    "predictions = regressor.predict(x_test)\n",
    "predicted_users_joined = int(round(predictions.sum()))\n",
    "\n",
    "print('If the bidding stratergy has not changed, the expected users acquired will be',predicted_users_joined)\n"
   ]
  },
  {
   "cell_type": "code",
   "execution_count": null,
   "metadata": {
    "collapsed": true
   },
   "outputs": [],
   "source": []
  }
 ],
 "metadata": {
  "kernelspec": {
   "display_name": "python3.5",
   "language": "python",
   "name": "python3.5"
  },
  "language_info": {
   "codemirror_mode": {
    "name": "ipython",
    "version": 3
   },
   "file_extension": ".py",
   "mimetype": "text/x-python",
   "name": "python",
   "nbconvert_exporter": "python",
   "pygments_lexer": "ipython3",
   "version": "3.6.0"
  }
 },
 "nbformat": 4,
 "nbformat_minor": 2
}
